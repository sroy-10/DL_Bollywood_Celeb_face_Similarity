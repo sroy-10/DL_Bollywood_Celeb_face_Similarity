{
  "cells": [
    {
      "attachments": {},
      "cell_type": "markdown",
      "metadata": {},
      "source": [
        "## The notebook was executed in Google Collab"
      ]
    },
    {
      "cell_type": "code",
      "execution_count": null,
      "metadata": {
        "id": "8tLPftJUaNwn"
      },
      "outputs": [],
      "source": [
        "!pip install kaggle\n",
        "!mkdir ~/.kaggle\n",
        "!cp '/content/drive/MyDrive/Colab Notebooks/kaggle.json' ~/.kaggle/\n",
        "!kaggle datasets download bollywood-celeb-localized-face-dataset-extended\n",
        "!unzip '/content/bollywood-celeb-localized-face-dataset-extended.zip' -d '/content'"
      ]
    },
    {
      "cell_type": "code",
      "execution_count": null,
      "metadata": {
        "id": "m6gdd_51Kc4E"
      },
      "outputs": [],
      "source": [
        "!pip install mtcnn==0.1.0 tensorflow==2.3.1 keras==2.4.3 keras-vggface==0.6 keras_applications==1.0.8 streamlit\n",
        "!npm install localtunnel"
      ]
    },
    {
      "cell_type": "code",
      "execution_count": null,
      "metadata": {
        "id": "VZiZR5bUozcH"
      },
      "outputs": [],
      "source": [
        "import os\n",
        "import numpy as np\n",
        "import pandas as pd\n",
        "\n",
        "# from tensorflow.keras.preprocessing import image\n",
        "from keras.preprocessing import image\n",
        "from keras_vggface.utils import preprocess_input\n",
        "from keras_vggface.vggface import VGGFace\n",
        "\n",
        "from tqdm import tqdm\n",
        "import pickle\n",
        "from mtcnn import MTCNN\n",
        "from PIL import Image\n",
        "from sklearn.metrics.pairwise import cosine_similarity\n",
        "import cv2\n",
        "from google.colab.patches import cv2_imshow\n",
        "\n",
        "import warnings\n",
        "warnings.filterwarnings('ignore')"
      ]
    },
    {
      "cell_type": "markdown",
      "metadata": {
        "id": "VixGwCnrqDeI"
      },
      "source": [
        "Change code in the `usr/local/lib/python3.7/dist-packages/keras_vggface/models.py` file from\n",
        "\n",
        "`from keras.engine.topology import get_source_inputs`\n",
        "\n",
        "TO\n",
        "\n",
        "`from keras.utils.layer_utils import get_source_inputs`\n",
        "\n",
        "[Error fix for VGGFace Import](https://shubhasmitaroy.medium.com/for-those-who-get-an-error-on-importing-vggface-related-packages-e5afdd0c3f01)"
      ]
    },
    {
      "cell_type": "code",
      "execution_count": null,
      "metadata": {
        "colab": {
          "base_uri": "https://localhost:8080/"
        },
        "id": "BSosNZHzXU_C",
        "outputId": "53f4bbf9-7589-43b6-fb56-1156bacf78b8"
      },
      "outputs": [
        {
          "name": "stdout",
          "output_type": "stream",
          "text": [
            "Total Files: 12257\n",
            "\n"
          ]
        },
        {
          "data": {
            "text/plain": [
              "['dataset/Aamir_Khan/Aamir.234.jpg',\n",
              " 'dataset/Aamir_Khan/Aamir.112.jpg',\n",
              " 'dataset/Aamir_Khan/Aamir.85.jpg',\n",
              " 'dataset/Aamir_Khan/Aamir.74.jpg',\n",
              " 'dataset/Aamir_Khan/Aamir.559.jpg']"
            ]
          },
          "execution_count": 5,
          "metadata": {},
          "output_type": "execute_result"
        }
      ],
      "source": [
        "actors = sorted(os.listdir('dataset'))\n",
        "filenames = []\n",
        "for actor in actors:\n",
        "  for file in os.listdir(os.path.join('dataset', actor)):\n",
        "    filenames.append(os.path.join('dataset', actor, file))\n",
        "\n",
        "pickle.dump(filenames, open('filenames.pkl', 'wb'))\n",
        "print(f\"Total Files: {len(filenames)}\\n\")\n",
        "filenames[:5]"
      ]
    },
    {
      "cell_type": "code",
      "execution_count": null,
      "metadata": {
        "id": "0J0-L6JgpoMY"
      },
      "outputs": [],
      "source": [
        "def feature_extractor(img_path, model):\n",
        "  img = image.load_img(img_path, target_size=(224,224))\n",
        "  img_array = image.img_to_array(img)\n",
        "  expanded_img = np.expand_dims(img_array, axis=0)\n",
        "  preprocessed_img = preprocess_input(expanded_img)\n",
        "  result = model.predict(preprocessed_img).flatten()\n",
        "  return result\n",
        "  \n",
        "model = VGGFace(model='resnet50',\n",
        "                include_top=False,\n",
        "                input_shape=(224,224,3),\n",
        "                pooling='avg'\n",
        "                )\n",
        "model.summary()"
      ]
    },
    {
      "cell_type": "code",
      "execution_count": null,
      "metadata": {
        "colab": {
          "base_uri": "https://localhost:8080/"
        },
        "id": "Uh8FMy-XsZB2",
        "outputId": "c6c169e7-de80-46ee-b8ce-d9a6edd2cabe"
      },
      "outputs": [
        {
          "name": "stderr",
          "output_type": "stream",
          "text": [
            "  0%|          | 0/12257 [00:00<?, ?it/s]WARNING:tensorflow:5 out of the last 11 calls to <function Model.make_predict_function.<locals>.predict_function at 0x7f508e4bae50> triggered tf.function retracing. Tracing is expensive and the excessive number of tracings could be due to (1) creating @tf.function repeatedly in a loop, (2) passing tensors with different shapes, (3) passing Python objects instead of tensors. For (1), please define your @tf.function outside of the loop. For (2), @tf.function has experimental_relax_shapes=True option that relaxes argument shapes that can avoid unnecessary retracing. For (3), please refer to https://www.tensorflow.org/tutorials/customization/performance#python_or_tensor_args and https://www.tensorflow.org/api_docs/python/tf/function for  more details.\n",
            "100%|██████████| 12257/12257 [40:23<00:00,  5.06it/s]\n"
          ]
        }
      ],
      "source": [
        "# extracting feature\n",
        "features = []\n",
        "for file in tqdm(filenames):\n",
        "  features.append(feature_extractor(file, model))\n",
        "\n",
        "# save the pickle file\n",
        "pickle.dump(features, open('embedding.pkl', 'wb'))"
      ]
    },
    {
      "cell_type": "code",
      "execution_count": null,
      "metadata": {
        "id": "YuvIJl1_wqaW"
      },
      "outputs": [],
      "source": [
        "import sys\n",
        "\n",
        "# load image & extract its face & its features\n",
        "# find the cosine distance of current image with all the features\n",
        "# recommend that image\n",
        "feature_list = np.array(pickle.load(open('/content/drive/MyDrive/Colab Notebooks/Dataset/celeb_face_embedding.pkl', 'rb')))\n",
        "model = VGGFace(model='resnet50',\n",
        "                include_top=False,\n",
        "                input_shape=(224,224,3),\n",
        "                pooling='avg'\n",
        "                )\n",
        "\n",
        "IMAGE_PATH = \"/content/drive/MyDrive/Colab Notebooks/Dataset/sample_img/\"\n",
        "sample_img = cv2.imread(IMAGE_PATH+\"r3.jpg\")\n",
        "\n",
        "detector = MTCNN()\n",
        "results = detector.detect_faces(sample_img)\n",
        "if len(results) == 0:\n",
        "  print('[ERROR] No face detected',results)\n",
        "  sys.exit()\n",
        "\n",
        "x,y,w,h = results[0]['box']\n",
        "\n",
        "# feature extraction\n",
        "face = sample_img[y:y+h, x:x+w]\n",
        "image = Image.fromarray(face)\n",
        "image = image.resize((224,224))\n",
        "face_array = np.asarray(image)\n",
        "face_array = face_array.astype('float32')\n",
        "expanded_img = np.expand_dims(face_array, axis=0)\n",
        "preprocessed_img = preprocess_input(expanded_img)\n",
        "result = model.predict(preprocessed_img).flatten()\n",
        "\n",
        "# comparison using cosine similarity\n",
        "similarity = []\n",
        "for i in range(len(feature_list)):\n",
        "  similarity.append(cosine_similarity(result.reshape(1,-1), feature_list[i].reshape(1,-1))[0][0])\n",
        "\n",
        "index_pos = sorted(list(enumerate(similarity)), reverse=True, key=lambda x: x[1])[0][0]\n",
        "temp_img = cv2.imread(filenames[index_pos])\n",
        "\n",
        "# cv2.imshow('output', face)\n",
        "cv2_imshow(temp_img)"
      ]
    },
    {
      "cell_type": "code",
      "execution_count": null,
      "metadata": {
        "id": "zaOTPnm5N4GS"
      },
      "outputs": [],
      "source": []
    }
  ],
  "metadata": {
    "colab": {
      "provenance": []
    },
    "gpuClass": "standard",
    "kernelspec": {
      "display_name": "Python 3",
      "language": "python",
      "name": "python3"
    },
    "language_info": {
      "name": "python",
      "version": "3.10.5"
    },
    "vscode": {
      "interpreter": {
        "hash": "23f3338aef799e2a92bdabb78ebbe34d9856385970afd00397688465e16656d7"
      }
    }
  },
  "nbformat": 4,
  "nbformat_minor": 0
}
